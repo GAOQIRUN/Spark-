{
 "cells": [
  {
   "cell_type": "code",
   "execution_count": 1,
   "metadata": {},
   "outputs": [
    {
     "data": {
      "application/vnd.jupyter.widget-view+json": {
       "model_id": "ac9fa87cea374f1f81eaab16085784d3",
       "version_major": 2,
       "version_minor": 0
      },
      "text/plain": [
       "VBox()"
      ]
     },
     "metadata": {},
     "output_type": "display_data"
    },
    {
     "name": "stdout",
     "output_type": "stream",
     "text": [
      "Starting Spark application\n"
     ]
    },
    {
     "data": {
      "text/html": [
       "<table>\n",
       "<tr><th>ID</th><th>YARN Application ID</th><th>Kind</th><th>State</th><th>Spark UI</th><th>Driver log</th><th>Current session?</th></tr><tr><td>4</td><td>application_1589251201859_0005</td><td>pyspark</td><td>idle</td><td><a target=\"_blank\" href=\"http://ip-172-31-69-175.ec2.internal:20888/proxy/application_1589251201859_0005/\">Link</a></td><td><a target=\"_blank\" href=\"http://ip-172-31-74-168.ec2.internal:8042/node/containerlogs/container_1589251201859_0005_01_000001/livy\">Link</a></td><td>✔</td></tr></table>"
      ],
      "text/plain": [
       "<IPython.core.display.HTML object>"
      ]
     },
     "metadata": {},
     "output_type": "display_data"
    },
    {
     "data": {
      "application/vnd.jupyter.widget-view+json": {
       "model_id": "",
       "version_major": 2,
       "version_minor": 0
      },
      "text/plain": [
       "FloatProgress(value=0.0, bar_style='info', description='Progress:', layout=Layout(height='25px', width='50%'),…"
      ]
     },
     "metadata": {},
     "output_type": "display_data"
    },
    {
     "name": "stdout",
     "output_type": "stream",
     "text": [
      "SparkSession available as 'spark'.\n"
     ]
    },
    {
     "data": {
      "application/vnd.jupyter.widget-view+json": {
       "model_id": "",
       "version_major": 2,
       "version_minor": 0
      },
      "text/plain": [
       "FloatProgress(value=0.0, bar_style='info', description='Progress:', layout=Layout(height='25px', width='50%'),…"
      ]
     },
     "metadata": {},
     "output_type": "display_data"
    }
   ],
   "source": [
    "from pyspark import SparkConf, SparkContext\n",
    "from pyspark.sql import SparkSession\n",
    "from pyspark.sql.types import StructType, StructField, StringType,IntegerType, FloatType\n",
    "import numpy as np\n",
    "from pyspark.ml.feature import RegexTokenizer\n",
    "import tensorflow as tf\n",
    "import tensorflow_hub as hub\n",
    "from pyspark.sql import functions as sf\n",
    "import nltk\n",
    "import sklearn\n",
    "from sklearn.metrics import classification_report\n",
    "from sklearn.metrics import confusion_matrix\n",
    "from pyspark.ml.linalg import Vectors\n",
    "from pyspark.ml.feature import VectorAssembler\n",
    "from pyspark.ml.feature import PCA\n",
    "\n",
    "spark_conf = SparkConf()\\\n",
    "        .setAppName(\"A2 NLI code\")\n",
    "sc=SparkContext.getOrCreate(spark_conf) "
   ]
  },
  {
   "cell_type": "code",
   "execution_count": 2,
   "metadata": {},
   "outputs": [
    {
     "data": {
      "application/vnd.jupyter.widget-view+json": {
       "model_id": "37178defbf604bddb7b8e563aec1ff5f",
       "version_major": 2,
       "version_minor": 0
      },
      "text/plain": [
       "VBox()"
      ]
     },
     "metadata": {},
     "output_type": "display_data"
    },
    {
     "data": {
      "application/vnd.jupyter.widget-view+json": {
       "model_id": "",
       "version_major": 2,
       "version_minor": 0
      },
      "text/plain": [
       "FloatProgress(value=0.0, bar_style='info', description='Progress:', layout=Layout(height='25px', width='50%'),…"
      ]
     },
     "metadata": {},
     "output_type": "display_data"
    }
   ],
   "source": [
    "file_schema = StructType([\n",
    "    StructField(\"index\", StringType(), True),\n",
    "    StructField(\"promtID\", StringType(), True),\n",
    "    StructField(\"pairID\", StringType(), True),\n",
    "    StructField(\"genre\", StringType(), True),\n",
    "    StructField(\"sentence1_binary_parse\",StringType(),True),\n",
    "    StructField(\"sentence2_binary_parse\",StringType(),True),\n",
    "    StructField(\"sentence1_parse\",StringType(),True),\n",
    "    StructField(\"sentence2_parse\",StringType(),True),\n",
    "    StructField(\"sentence1\",StringType(),True),\n",
    "    StructField(\"sentence2\",StringType(),True),\n",
    "    StructField(\"label1\",StringType(),True),\n",
    "    StructField(\"label2\",StringType(),True),\n",
    "    StructField(\"label3\",StringType(),True),\n",
    "    StructField(\"label4\",StringType(),True),\n",
    "    StructField(\"label5\",StringType(),True),\n",
    "    StructField(\"gold_label\",StringType(),True)\n",
    "])"
   ]
  },
  {
   "cell_type": "code",
   "execution_count": 3,
   "metadata": {},
   "outputs": [
    {
     "data": {
      "application/vnd.jupyter.widget-view+json": {
       "model_id": "8a86bf0b6aff4ebca56fc5b7aae4abea",
       "version_major": 2,
       "version_minor": 0
      },
      "text/plain": [
       "VBox()"
      ]
     },
     "metadata": {},
     "output_type": "display_data"
    },
    {
     "data": {
      "application/vnd.jupyter.widget-view+json": {
       "model_id": "",
       "version_major": 2,
       "version_minor": 0
      },
      "text/plain": [
       "FloatProgress(value=0.0, bar_style='info', description='Progress:', layout=Layout(height='25px', width='50%'),…"
      ]
     },
     "metadata": {},
     "output_type": "display_data"
    }
   ],
   "source": [
    "dev_matched_file = 's3://comp5349-qgao7403/week10/e-2JNSCVIVXV7TULZBDKF4XGBSZ/ta/dev_matched.tsv'\n",
    "dev_mismatched_flie='s3://comp5349-qgao7403/week10/e-2JNSCVIVXV7TULZBDKF4XGBSZ/ta/dev_mismatched.tsv'\n",
    "test_matched_file='s3://comp5349-qgao7403/week10/e-2JNSCVIVXV7TULZBDKF4XGBSZ/ta/test_matched.tsv'\n",
    "test_mismatched_file='s3://comp5349-qgao7403/week10/e-2JNSCVIVXV7TULZBDKF4XGBSZ/ta/test_mismatched.tsv'\n",
    "train_flie='s3://comp5349-qgao7403/week10/e-2JNSCVIVXV7TULZBDKF4XGBSZ/ta/train.tsv'\n",
    "my_cols=['genre','sentence1','sentence2']\n",
    "\n",
    "\n",
    "dev_matched_rdd = spark.read.format(\"csv\").option(\"header\", \"true\").option(\"delimiter\", \"\\t\").schema(file_schema).load(dev_matched_file).select(my_cols).cache()\n",
    "dev_mismatched_rdd = spark.read.format(\"csv\").option(\"header\", \"true\").option(\"delimiter\", \"\\t\").schema(file_schema).load(dev_mismatched_flie).select(my_cols).cache()\n",
    "test_matched_rdd =spark.read.format(\"csv\").option(\"header\", \"true\").option(\"delimiter\", \"\\t\").schema(file_schema).load(test_matched_file).select(my_cols).cache()\n",
    "test_mismatched_rdd = spark.read.format(\"csv\").option(\"header\", \"true\").option(\"delimiter\", \"\\t\").schema(file_schema).load(test_mismatched_file).select(my_cols).cache()\n",
    "train_rdd = spark.read.format(\"csv\").option(\"header\", \"true\").option(\"delimiter\", \"\\t\").schema(file_schema).load(train_flie).select(my_cols).cache()\n",
    "\n",
    "\n"
   ]
  },
  {
   "cell_type": "markdown",
   "metadata": {},
   "source": [
    "# 3.1.1"
   ]
  },
  {
   "cell_type": "code",
   "execution_count": 15,
   "metadata": {},
   "outputs": [
    {
     "data": {
      "application/vnd.jupyter.widget-view+json": {
       "model_id": "39366ac32fb54b3d90e73e070753b3f1",
       "version_major": 2,
       "version_minor": 0
      },
      "text/plain": [
       "VBox()"
      ]
     },
     "metadata": {},
     "output_type": "display_data"
    },
    {
     "data": {
      "application/vnd.jupyter.widget-view+json": {
       "model_id": "",
       "version_major": 2,
       "version_minor": 0
      },
      "text/plain": [
       "FloatProgress(value=0.0, bar_style='info', description='Progress:', layout=Layout(height='25px', width='50%'),…"
      ]
     },
     "metadata": {},
     "output_type": "display_data"
    }
   ],
   "source": [
    "merge_matched=dev_matched_rdd.union(test_matched_rdd)\n",
    "merge_mismatched=dev_mismatched_rdd.union(test_mismatched_rdd)"
   ]
  },
  {
   "cell_type": "code",
   "execution_count": 16,
   "metadata": {},
   "outputs": [
    {
     "data": {
      "application/vnd.jupyter.widget-view+json": {
       "model_id": "fd65618702504c4bbc552437daea02f9",
       "version_major": 2,
       "version_minor": 0
      },
      "text/plain": [
       "VBox()"
      ]
     },
     "metadata": {},
     "output_type": "display_data"
    },
    {
     "data": {
      "application/vnd.jupyter.widget-view+json": {
       "model_id": "",
       "version_major": 2,
       "version_minor": 0
      },
      "text/plain": [
       "FloatProgress(value=0.0, bar_style='info', description='Progress:', layout=Layout(height='25px', width='50%'),…"
      ]
     },
     "metadata": {},
     "output_type": "display_data"
    }
   ],
   "source": [
    "# import string\n",
    "# print(string.punctuation)\n",
    "# table = str.maketrans('.', ' ')\n",
    "# # table = str.maketrans(string.punctuation, ' '*len(string.punctuation))\n",
    "# \"don't...\".translate(table)"
   ]
  },
  {
   "cell_type": "code",
   "execution_count": 17,
   "metadata": {},
   "outputs": [
    {
     "data": {
      "application/vnd.jupyter.widget-view+json": {
       "model_id": "db97d42da33449debe16baaa697ed632",
       "version_major": 2,
       "version_minor": 0
      },
      "text/plain": [
       "VBox()"
      ]
     },
     "metadata": {},
     "output_type": "display_data"
    },
    {
     "data": {
      "application/vnd.jupyter.widget-view+json": {
       "model_id": "",
       "version_major": 2,
       "version_minor": 0
      },
      "text/plain": [
       "FloatProgress(value=0.0, bar_style='info', description='Progress:', layout=Layout(height='25px', width='50%'),…"
      ]
     },
     "metadata": {},
     "output_type": "display_data"
    }
   ],
   "source": [
    "import string\n",
    "#table = str.maketrans(string.punctuation, ' '*len(string.punctuation))\n",
    "table = str.maketrans('.', ' ')\n",
    "def tokenAndMap(row):\n",
    "    sentence1=row[1]\n",
    "    sentence2=row[2]\n",
    "\n",
    "    if sentence2 is None:\n",
    "        sentence = sentence1\n",
    "    elif sentence1 is None:\n",
    "        sentence = sentence2\n",
    "    else:\n",
    "        sentence = sentence1+' '+sentence2\n",
    "    # get rid of the punctuation '.' and lower sentence\n",
    "    words = nltk.word_tokenize(sentence.translate(table).lower()) \n",
    "    return [(x,1) for x in words]\n",
    "\n",
    "#extract the words by nltk tools and map them and distinct them\n",
    "dist_m_matched = merge_matched.rdd.flatMap(tokenAndMap).distinct()\n",
    "dist_m_mismatched = merge_mismatched.rdd.flatMap(tokenAndMap).distinct()\n",
    "\n",
    "\n",
    "# join them on common words then count \n",
    "num_comm_words=dist_m_matched.join(dist_m_mismatched).count()\n",
    "\n",
    "# unique number = tatal number - common number \n",
    "num_uniq_words_matched=dist_m_matched.count()-num_comm_words\n",
    "num_uniq_words_mismatched=dist_m_mismatched.count()-num_comm_words\n",
    "\n",
    "\n"
   ]
  },
  {
   "cell_type": "code",
   "execution_count": 18,
   "metadata": {},
   "outputs": [
    {
     "data": {
      "application/vnd.jupyter.widget-view+json": {
       "model_id": "1038f3ee491f478e9a7ef1be6df417bf",
       "version_major": 2,
       "version_minor": 0
      },
      "text/plain": [
       "VBox()"
      ]
     },
     "metadata": {},
     "output_type": "display_data"
    },
    {
     "data": {
      "application/vnd.jupyter.widget-view+json": {
       "model_id": "",
       "version_major": 2,
       "version_minor": 0
      },
      "text/plain": [
       "FloatProgress(value=0.0, bar_style='info', description='Progress:', layout=Layout(height='25px', width='50%'),…"
      ]
     },
     "metadata": {},
     "output_type": "display_data"
    },
    {
     "name": "stdout",
     "output_type": "stream",
     "text": [
      "the number of common words betweenmatchedandmismatchedsets: 9448 \n",
      "the number of words unique to the matched sets;  10462 \n",
      "the number of words unique to the mismatched sets:  8064"
     ]
    }
   ],
   "source": [
    "print('the number of common words betweenmatchedandmismatchedsets:',\n",
    "      num_comm_words,\n",
    "      '\\nthe number of words unique to the matched sets; ',\n",
    "      num_uniq_words_matched,\n",
    "      '\\nthe number of words unique to the mismatched sets: ',\n",
    "      num_uniq_words_mismatched)"
   ]
  },
  {
   "cell_type": "markdown",
   "metadata": {},
   "source": [
    "# 3.1.2\n",
    "## without stopword dict"
   ]
  },
  {
   "cell_type": "code",
   "execution_count": 19,
   "metadata": {},
   "outputs": [
    {
     "data": {
      "application/vnd.jupyter.widget-view+json": {
       "model_id": "f5da2cd610b4460b992e4d50e036a45e",
       "version_major": 2,
       "version_minor": 0
      },
      "text/plain": [
       "VBox()"
      ]
     },
     "metadata": {},
     "output_type": "display_data"
    },
    {
     "data": {
      "application/vnd.jupyter.widget-view+json": {
       "model_id": "",
       "version_major": 2,
       "version_minor": 0
      },
      "text/plain": [
       "FloatProgress(value=0.0, bar_style='info', description='Progress:', layout=Layout(height='25px', width='50%'),…"
      ]
     },
     "metadata": {},
     "output_type": "display_data"
    },
    {
     "name": "stdout",
     "output_type": "stream",
     "text": [
      "+----------+--------------------+--------------------+\n",
      "|     genre|           sentence1|           sentence2|\n",
      "+----------+--------------------+--------------------+\n",
      "|government|Conceptually crea...|Product and geogr...|\n",
      "| telephone|you know during t...|You lose the thin...|\n",
      "|   fiction|One of our number...|A member of my te...|\n",
      "+----------+--------------------+--------------------+\n",
      "only showing top 3 rows"
     ]
    }
   ],
   "source": [
    "train_rdd.show(3)"
   ]
  },
  {
   "cell_type": "code",
   "execution_count": 20,
   "metadata": {},
   "outputs": [
    {
     "data": {
      "application/vnd.jupyter.widget-view+json": {
       "model_id": "33bd173f9928479eb2ed296e6f67206b",
       "version_major": 2,
       "version_minor": 0
      },
      "text/plain": [
       "VBox()"
      ]
     },
     "metadata": {},
     "output_type": "display_data"
    },
    {
     "data": {
      "application/vnd.jupyter.widget-view+json": {
       "model_id": "",
       "version_major": 2,
       "version_minor": 0
      },
      "text/plain": [
       "FloatProgress(value=0.0, bar_style='info', description='Progress:', layout=Layout(height='25px', width='50%'),…"
      ]
     },
     "metadata": {},
     "output_type": "display_data"
    }
   ],
   "source": [
    "def token_Map_word_genre(row):\n",
    "    genre=row[0]\n",
    "    sentence1=row[1]\n",
    "    sentence2=row[2]\n",
    "\n",
    "    if sentence2 is None:\n",
    "        sentence = sentence1\n",
    "    elif sentence1 is None:\n",
    "        sentence = sentence2\n",
    "    else:\n",
    "        sentence = sentence1+' '+sentence2\n",
    "    # get rid of the punctuation '.' and lower sentence\n",
    "    words = nltk.word_tokenize(sentence.translate(table).lower()) \n",
    "    return [(x,genre) for x in words]\n",
    "\n",
    "dict_word_genre=train_rdd.rdd.flatMap(token_Map_word_genre).distinct().countByKey()"
   ]
  },
  {
   "cell_type": "code",
   "execution_count": 21,
   "metadata": {},
   "outputs": [
    {
     "data": {
      "application/vnd.jupyter.widget-view+json": {
       "model_id": "7bc9633209b74f46a8d944b88812cde6",
       "version_major": 2,
       "version_minor": 0
      },
      "text/plain": [
       "VBox()"
      ]
     },
     "metadata": {},
     "output_type": "display_data"
    },
    {
     "data": {
      "application/vnd.jupyter.widget-view+json": {
       "model_id": "",
       "version_major": 2,
       "version_minor": 0
      },
      "text/plain": [
       "FloatProgress(value=0.0, bar_style='info', description='Progress:', layout=Layout(height='25px', width='50%'),…"
      ]
     },
     "metadata": {},
     "output_type": "display_data"
    }
   ],
   "source": [
    "total=len(dict_word_genre)\n",
    "rdd_train=sc.parallelize(list(dict_word_genre.items()))\n",
    "\n",
    "total_5=rdd_train.filter(lambda a: True if a[1]==5 else False).count()/total*100\n",
    "total_4=rdd_train.filter(lambda a: True if a[1]==4 else False).count()/total*100\n",
    "total_3=rdd_train.filter(lambda a: True if a[1]==3 else False).count()/total*100\n",
    "total_2=rdd_train.filter(lambda a: True if a[1]==2 else False).count()/total*100\n",
    "total_1=rdd_train.filter(lambda a: True if a[1]==1 else False).count()/total*100\n"
   ]
  },
  {
   "cell_type": "code",
   "execution_count": 22,
   "metadata": {},
   "outputs": [
    {
     "data": {
      "application/vnd.jupyter.widget-view+json": {
       "model_id": "841dd938eb3a47fe858003a327a048af",
       "version_major": 2,
       "version_minor": 0
      },
      "text/plain": [
       "VBox()"
      ]
     },
     "metadata": {},
     "output_type": "display_data"
    },
    {
     "data": {
      "application/vnd.jupyter.widget-view+json": {
       "model_id": "",
       "version_major": 2,
       "version_minor": 0
      },
      "text/plain": [
       "FloatProgress(value=0.0, bar_style='info', description='Progress:', layout=Layout(height='25px', width='50%'),…"
      ]
     },
     "metadata": {},
     "output_type": "display_data"
    },
    {
     "name": "stdout",
     "output_type": "stream",
     "text": [
      "percentages of words appearing in 5 genres: 9.15% \n",
      "percentages of words appearing in 4 genres: 6.28% \n",
      "percentages of words appearing in 3 genres: 8.02% \n",
      "percentages of words appearing in 2 genres: 13.61% \n",
      "percentages of words appearing in 1 genres: 62.95%"
     ]
    }
   ],
   "source": [
    "\n",
    "print(  'percentages of words appearing in 5 genres: {:.2f}%'.format(total_5),\n",
    "        '\\npercentages of words appearing in 4 genres: {:.2f}%'.format(total_4),\n",
    "      '\\npercentages of words appearing in 3 genres: {:.2f}%'.format(total_3),\n",
    "      '\\npercentages of words appearing in 2 genres: {:.2f}%'.format(total_2),\n",
    "      '\\npercentages of words appearing in 1 genres: {:.2f}%'.format(total_1),)"
   ]
  },
  {
   "cell_type": "markdown",
   "metadata": {},
   "source": [
    "## with stopword dict"
   ]
  },
  {
   "cell_type": "code",
   "execution_count": 23,
   "metadata": {},
   "outputs": [
    {
     "data": {
      "application/vnd.jupyter.widget-view+json": {
       "model_id": "1279b433896c41c79cf23671428c61b6",
       "version_major": 2,
       "version_minor": 0
      },
      "text/plain": [
       "VBox()"
      ]
     },
     "metadata": {},
     "output_type": "display_data"
    },
    {
     "data": {
      "application/vnd.jupyter.widget-view+json": {
       "model_id": "",
       "version_major": 2,
       "version_minor": 0
      },
      "text/plain": [
       "FloatProgress(value=0.0, bar_style='info', description='Progress:', layout=Layout(height='25px', width='50%'),…"
      ]
     },
     "metadata": {},
     "output_type": "display_data"
    }
   ],
   "source": [
    "from nltk.corpus import stopwords\n",
    "stop_words = set(stopwords.words('english'))\n",
    "\n",
    "def token_stopword_Map_word_genre(row):\n",
    "    genre=row[0]\n",
    "    sentence1=row[1]\n",
    "    sentence2=row[2]\n",
    "\n",
    "    if sentence2 is None:\n",
    "        sentence = sentence1\n",
    "    elif sentence1 is None:\n",
    "        sentence = sentence2\n",
    "    else:\n",
    "        sentence = sentence1+' '+sentence2\n",
    "    # get rid of the punctuation '.' and lower sentence\n",
    "    words = nltk.word_tokenize(sentence.translate(table).lower()) \n",
    "    # get rid of stopword\n",
    "    words = [w for w in words if not w in stop_words]\n",
    "    return [(x,genre) for x in words]\n",
    "\n",
    "dict_word_genre=train_rdd.rdd.flatMap(token_stopword_Map_word_genre).distinct().countByKey()"
   ]
  },
  {
   "cell_type": "code",
   "execution_count": 24,
   "metadata": {},
   "outputs": [
    {
     "data": {
      "application/vnd.jupyter.widget-view+json": {
       "model_id": "6971f387bbc04474bbfaefeb6c152079",
       "version_major": 2,
       "version_minor": 0
      },
      "text/plain": [
       "VBox()"
      ]
     },
     "metadata": {},
     "output_type": "display_data"
    },
    {
     "data": {
      "application/vnd.jupyter.widget-view+json": {
       "model_id": "",
       "version_major": 2,
       "version_minor": 0
      },
      "text/plain": [
       "FloatProgress(value=0.0, bar_style='info', description='Progress:', layout=Layout(height='25px', width='50%'),…"
      ]
     },
     "metadata": {},
     "output_type": "display_data"
    },
    {
     "name": "stdout",
     "output_type": "stream",
     "text": [
      "percentages of words appearing in 5 genres: 9.01% \n",
      "percentages of words appearing in 4 genres: 6.28% \n",
      "percentages of words appearing in 3 genres: 8.03% \n",
      "percentages of words appearing in 2 genres: 13.63% \n",
      "percentages of words appearing in 1 genres: 63.05%"
     ]
    }
   ],
   "source": [
    "total=len(dict_word_genre)\n",
    "rdd_train=sc.parallelize(list(dict_word_genre.items()))\n",
    "\n",
    "total_5=rdd_train.filter(lambda a: True if a[1]==5 else False).count()/total*100\n",
    "total_4=rdd_train.filter(lambda a: True if a[1]==4 else False).count()/total*100\n",
    "total_3=rdd_train.filter(lambda a: True if a[1]==3 else False).count()/total*100\n",
    "total_2=rdd_train.filter(lambda a: True if a[1]==2 else False).count()/total*100\n",
    "total_1=rdd_train.filter(lambda a: True if a[1]==1 else False).count()/total*100\n",
    "\n",
    "print(  'percentages of words appearing in 5 genres: {:.2f}%'.format(total_5),\n",
    "        '\\npercentages of words appearing in 4 genres: {:.2f}%'.format(total_4),\n",
    "      '\\npercentages of words appearing in 3 genres: {:.2f}%'.format(total_3),\n",
    "      '\\npercentages of words appearing in 2 genres: {:.2f}%'.format(total_2),\n",
    "      '\\npercentages of words appearing in 1 genres: {:.2f}%'.format(total_1),)"
   ]
  },
  {
   "cell_type": "markdown",
   "metadata": {},
   "source": [
    "## 3.2"
   ]
  },
  {
   "cell_type": "markdown",
   "metadata": {},
   "source": [
    "## Flat Data"
   ]
  },
  {
   "cell_type": "code",
   "execution_count": 9,
   "metadata": {},
   "outputs": [
    {
     "data": {
      "application/vnd.jupyter.widget-view+json": {
       "model_id": "22239212956e415fa080a201cdf0bd32",
       "version_major": 2,
       "version_minor": 0
      },
      "text/plain": [
       "VBox()"
      ]
     },
     "metadata": {},
     "output_type": "display_data"
    },
    {
     "data": {
      "application/vnd.jupyter.widget-view+json": {
       "model_id": "",
       "version_major": 2,
       "version_minor": 0
      },
      "text/plain": [
       "FloatProgress(value=0.0, bar_style='info', description='Progress:', layout=Layout(height='25px', width='50%'),…"
      ]
     },
     "metadata": {},
     "output_type": "display_data"
    }
   ],
   "source": [
    "def extractAllSentences(row):\n",
    "    genre=row[0]\n",
    "    sentence1=row[1]\n",
    "    sentence2=row[2]\n",
    "    if sentence2 is None:\n",
    "        sentence = sentence1\n",
    "    elif sentence1 is None:\n",
    "        sentence = sentence2\n",
    "    else:\n",
    "        sentence = sentence1+' '+sentence2\n",
    "    return (genre,sentence)\n",
    "    \n",
    "flat_train_rdd=train_rdd.rdd.map(extractAllSentences).repartition(5).cache()\n",
    "# fit_data_limit=train_rdd.limit(20000).rdd.map(extractAllSentences)"
   ]
  },
  {
   "cell_type": "code",
   "execution_count": 10,
   "metadata": {},
   "outputs": [
    {
     "data": {
      "application/vnd.jupyter.widget-view+json": {
       "model_id": "e6fc80fd62ee402d888ee8f30fa5cd15",
       "version_major": 2,
       "version_minor": 0
      },
      "text/plain": [
       "VBox()"
      ]
     },
     "metadata": {},
     "output_type": "display_data"
    },
    {
     "data": {
      "application/vnd.jupyter.widget-view+json": {
       "model_id": "",
       "version_major": 2,
       "version_minor": 0
      },
      "text/plain": [
       "FloatProgress(value=0.0, bar_style='info', description='Progress:', layout=Layout(height='25px', width='50%'),…"
      ]
     },
     "metadata": {},
     "output_type": "display_data"
    },
    {
     "name": "stdout",
     "output_type": "stream",
     "text": [
      "789904"
     ]
    }
   ],
   "source": [
    "flat_train_rdd.count()"
   ]
  },
  {
   "cell_type": "markdown",
   "metadata": {},
   "source": [
    "## Using Google encode"
   ]
  },
  {
   "cell_type": "code",
   "execution_count": 11,
   "metadata": {},
   "outputs": [
    {
     "data": {
      "application/vnd.jupyter.widget-view+json": {
       "model_id": "e5af7b8b2789413681f279253f30853f",
       "version_major": 2,
       "version_minor": 0
      },
      "text/plain": [
       "VBox()"
      ]
     },
     "metadata": {},
     "output_type": "display_data"
    },
    {
     "data": {
      "application/vnd.jupyter.widget-view+json": {
       "model_id": "",
       "version_major": 2,
       "version_minor": 0
      },
      "text/plain": [
       "FloatProgress(value=0.0, bar_style='info', description='Progress:', layout=Layout(height='25px', width='50%'),…"
      ]
     },
     "metadata": {},
     "output_type": "display_data"
    }
   ],
   "source": [
    "def sentenece_embed(sen_text_partition):\n",
    "    module_url = \"https://tfhub.dev/google/universal-sentence-encoder/2\" #@param [\"https://tfhub.dev/google/universal-sentence-encoder/2\", \"https://tfhub.dev/google/universal-sentence-encoder-large/3\"]\n",
    "    embed = hub.Module(module_url)\n",
    "    # mapPartition would supply element inside a partition using generator stype\n",
    "    # this does not fit tensorflow stype\n",
    "    sen_text_list = [text[1] for text in sen_text_partition]\n",
    "    with tf.Session() as session:\n",
    "        session.run([tf.global_variables_initializer(), tf.tables_initializer()])\n",
    "        message_embeddings = session.run(embed(sen_text_list))\n",
    "   \n",
    "    return message_embeddings\n",
    "\n",
    "sentence_embedding = flat_train_rdd.mapPartitions(sentenece_embed).cache()\n",
    "# fit_sentence_embedding=fit_data_limit.mapPartitions(sentenece_embed)"
   ]
  },
  {
   "cell_type": "code",
   "execution_count": 12,
   "metadata": {},
   "outputs": [
    {
     "data": {
      "application/vnd.jupyter.widget-view+json": {
       "model_id": "5dd2846d95144df48e3846a8cb5f3f95",
       "version_major": 2,
       "version_minor": 0
      },
      "text/plain": [
       "VBox()"
      ]
     },
     "metadata": {},
     "output_type": "display_data"
    },
    {
     "data": {
      "application/vnd.jupyter.widget-view+json": {
       "model_id": "",
       "version_major": 2,
       "version_minor": 0
      },
      "text/plain": [
       "FloatProgress(value=0.0, bar_style='info', description='Progress:', layout=Layout(height='25px', width='50%'),…"
      ]
     },
     "metadata": {},
     "output_type": "display_data"
    },
    {
     "name": "stdout",
     "output_type": "stream",
     "text": [
      "5"
     ]
    }
   ],
   "source": [
    "sentence_embedding.getNumPartitions()"
   ]
  },
  {
   "cell_type": "markdown",
   "metadata": {},
   "source": [
    "## Transfer embeded data to Vector"
   ]
  },
  {
   "cell_type": "code",
   "execution_count": 13,
   "metadata": {},
   "outputs": [
    {
     "data": {
      "application/vnd.jupyter.widget-view+json": {
       "model_id": "24dd0de2590c4c2c8e3db1401928d746",
       "version_major": 2,
       "version_minor": 0
      },
      "text/plain": [
       "VBox()"
      ]
     },
     "metadata": {},
     "output_type": "display_data"
    },
    {
     "data": {
      "application/vnd.jupyter.widget-view+json": {
       "model_id": "",
       "version_major": 2,
       "version_minor": 0
      },
      "text/plain": [
       "FloatProgress(value=0.0, bar_style='info', description='Progress:', layout=Layout(height='25px', width='50%'),…"
      ]
     },
     "metadata": {},
     "output_type": "display_data"
    }
   ],
   "source": [
    "\n",
    "\n",
    "sentence_embedding_df = spark.createDataFrame(sentence_embedding.map(lambda v: v.tolist()))\n",
    "# fit_sentence_embedding_df = spark.createDataFrame(fit_sentence_embedding.map(lambda v: v.tolist()))\n",
    "\n",
    "assembler = VectorAssembler(inputCols=sentence_embedding_df.columns,\n",
    "    outputCol=\"features\")\n",
    "\n",
    "# fit_assembler=VectorAssembler(inputCols=fit_sentence_embedding_df.columns,\n",
    "#     outputCol=\"features\")\n",
    "\n",
    "sentence_embedding_vectors = assembler.transform(sentence_embedding_df).select(\"features\")\n",
    "# fit_sentence_embedding_vectors = fit_assembler.transform(fit_sentence_embedding_df).select(\"features\")\n",
    "\n",
    "# sentence_embedding_vectors.take(1)\n"
   ]
  },
  {
   "cell_type": "code",
   "execution_count": null,
   "metadata": {},
   "outputs": [],
   "source": [
    "# sentence_embedding_vectors.rdd.getNumPartitions()\n",
    "# fit_data=sentence_embedding_vectors.repartition(200)"
   ]
  },
  {
   "cell_type": "markdown",
   "metadata": {},
   "source": [
    "## Using PCA to reduce dimensions"
   ]
  },
  {
   "cell_type": "code",
   "execution_count": 14,
   "metadata": {},
   "outputs": [
    {
     "data": {
      "application/vnd.jupyter.widget-view+json": {
       "model_id": "a95f856ca3f54b5b9d8d3c0ee06b8708",
       "version_major": 2,
       "version_minor": 0
      },
      "text/plain": [
       "VBox()"
      ]
     },
     "metadata": {},
     "output_type": "display_data"
    },
    {
     "data": {
      "application/vnd.jupyter.widget-view+json": {
       "model_id": "",
       "version_major": 2,
       "version_minor": 0
      },
      "text/plain": [
       "FloatProgress(value=0.0, bar_style='info', description='Progress:', layout=Layout(height='25px', width='50%'),…"
      ]
     },
     "metadata": {},
     "output_type": "display_data"
    }
   ],
   "source": [
    "pca = PCA(k=100, inputCol=\"features\", outputCol=\"pca\")\n",
    "model = pca.fit(sentence_embedding_vectors)\n",
    "pca_result = model.transform(sentence_embedding_vectors).select('pca')\n"
   ]
  },
  {
   "cell_type": "code",
   "execution_count": 38,
   "metadata": {},
   "outputs": [
    {
     "data": {
      "application/vnd.jupyter.widget-view+json": {
       "model_id": "e1de030fd8024ef787751ba932aa5ea9",
       "version_major": 2,
       "version_minor": 0
      },
      "text/plain": [
       "VBox()"
      ]
     },
     "metadata": {},
     "output_type": "display_data"
    },
    {
     "data": {
      "application/vnd.jupyter.widget-view+json": {
       "model_id": "",
       "version_major": 2,
       "version_minor": 0
      },
      "text/plain": [
       "FloatProgress(value=0.0, bar_style='info', description='Progress:', layout=Layout(height='25px', width='50%'),…"
      ]
     },
     "metadata": {},
     "output_type": "display_data"
    }
   ],
   "source": [
    "# pca_result = model.transform(sentence_embedding_vectors).select('pca')\n",
    "# fit_pca_result = model.transform(fit_sentence_embedding_vectors).select('pca')"
   ]
  },
  {
   "cell_type": "markdown",
   "metadata": {},
   "source": [
    "## Using Kmeans to clustering the sentences"
   ]
  },
  {
   "cell_type": "code",
   "execution_count": 15,
   "metadata": {},
   "outputs": [
    {
     "data": {
      "application/vnd.jupyter.widget-view+json": {
       "model_id": "e1402c10f42f44f3bc28007a590ae8ed",
       "version_major": 2,
       "version_minor": 0
      },
      "text/plain": [
       "VBox()"
      ]
     },
     "metadata": {},
     "output_type": "display_data"
    },
    {
     "data": {
      "application/vnd.jupyter.widget-view+json": {
       "model_id": "",
       "version_major": 2,
       "version_minor": 0
      },
      "text/plain": [
       "FloatProgress(value=0.0, bar_style='info', description='Progress:', layout=Layout(height='25px', width='50%'),…"
      ]
     },
     "metadata": {},
     "output_type": "display_data"
    },
    {
     "name": "stdout",
     "output_type": "stream",
     "text": [
      "+--------------------+----------+\n",
      "|                 pca|prediction|\n",
      "+--------------------+----------+\n",
      "|[-0.4034157047051...|         3|\n",
      "|[-0.2721225915225...|         3|\n",
      "|[0.30520967715876...|         0|\n",
      "|[0.27304168878753...|         1|\n",
      "|[-0.4300581487699...|         3|\n",
      "+--------------------+----------+\n",
      "only showing top 5 rows"
     ]
    }
   ],
   "source": [
    "from pyspark.ml.clustering import KMeans\n",
    "kmeans = KMeans(featuresCol='pca',k=5)\n",
    "model=kmeans.fit(pca_result)\n",
    "predictions = model.transform(pca_result)\n",
    "centers = model.clusterCenters()\n",
    "predictions.show(5)"
   ]
  },
  {
   "cell_type": "code",
   "execution_count": 24,
   "metadata": {},
   "outputs": [
    {
     "data": {
      "application/vnd.jupyter.widget-view+json": {
       "model_id": "1e69e8e9c1c842ff863ddb67503bb09b",
       "version_major": 2,
       "version_minor": 0
      },
      "text/plain": [
       "VBox()"
      ]
     },
     "metadata": {},
     "output_type": "display_data"
    },
    {
     "data": {
      "application/vnd.jupyter.widget-view+json": {
       "model_id": "",
       "version_major": 2,
       "version_minor": 0
      },
      "text/plain": [
       "FloatProgress(value=0.0, bar_style='info', description='Progress:', layout=Layout(height='25px', width='50%'),…"
      ]
     },
     "metadata": {},
     "output_type": "display_data"
    }
   ],
   "source": [
    "# from pyspark.ml.clustering import GaussianMixture\n",
    "# gmm=GaussianMixture(featuresCol='pca', predictionCol='prediction', k=5, probabilityCol='probability', tol=0.01, maxIter=100, seed=None)\n",
    "# cmodel=gmm.fit(pca_result)\n",
    "# predictions = model.transform(pca_result)\n",
    "# predictions.show(5)\n"
   ]
  },
  {
   "cell_type": "markdown",
   "metadata": {},
   "source": [
    "## Show confusion_matrix and classification_report"
   ]
  },
  {
   "cell_type": "code",
   "execution_count": 16,
   "metadata": {},
   "outputs": [
    {
     "data": {
      "application/vnd.jupyter.widget-view+json": {
       "model_id": "6620701c29ec42889029e0494dcadfe7",
       "version_major": 2,
       "version_minor": 0
      },
      "text/plain": [
       "VBox()"
      ]
     },
     "metadata": {},
     "output_type": "display_data"
    },
    {
     "data": {
      "application/vnd.jupyter.widget-view+json": {
       "model_id": "",
       "version_major": 2,
       "version_minor": 0
      },
      "text/plain": [
       "FloatProgress(value=0.0, bar_style='info', description='Progress:', layout=Layout(height='25px', width='50%'),…"
      ]
     },
     "metadata": {},
     "output_type": "display_data"
    },
    {
     "name": "stdout",
     "output_type": "stream",
     "text": [
      "              precision    recall  f1-score   support\n",
      "\n",
      "     fiction       0.31      0.56      0.40    159196\n",
      "  government       0.37      0.51      0.43    154700\n",
      "       slate       0.00      0.00      0.00    154612\n",
      "   telephone       0.36      0.33      0.34    166696\n",
      "      travel       0.47      0.42      0.44    154700\n",
      "\n",
      "    accuracy                           0.36    789904\n",
      "   macro avg       0.30      0.36      0.32    789904\n",
      "weighted avg       0.30      0.36      0.32    789904\n",
      "\n",
      "True Label:  fiction government slate telephone travel\n",
      "[[0.55898389 0.24996122 0.39022198 0.35783102 0.25122818]\n",
      " [0.16504184 0.50513898 0.29387758 0.19494769 0.17098255]\n",
      " [0.         0.         0.         0.         0.        ]\n",
      " [0.15688208 0.13371687 0.1890927  0.33005591 0.15471881]\n",
      " [0.11909219 0.11118293 0.12680775 0.11716538 0.42307046]]\n",
      "/usr/local/lib64/python3.6/site-packages/sklearn/metrics/_classification.py:1272: UndefinedMetricWarning: Precision and F-score are ill-defined and being set to 0.0 in labels with no predicted samples. Use `zero_division` parameter to control this behavior.\n",
      "  _warn_prf(average, modifier, msg_start, len(result))"
     ]
    }
   ],
   "source": [
    "local_kmeans_data= predictions.select('prediction').rdd.map(lambda row:(row[0]))\n",
    "\n",
    "#[genre, senetence, word2vec, pca, prediction, majority_abel]\n",
    "\n",
    "local_kmeans_data_index=local_kmeans_data.zipWithIndex().map(lambda row:(row[1],row[0]))\n",
    "\n",
    "train_genre_index=flat_train_rdd.map(lambda row : (row[0])).zipWithIndex().map(lambda row:(row[1],row[0]))\n",
    "\n",
    "zip_genre_kmeanpred=train_genre_index.join(local_kmeans_data_index).values()\n",
    "\n",
    "### zip_genre_kmeanpred: [ genre, prediction]\n",
    "\n",
    "zip_genre_kmeanpred.count()\n",
    "\n",
    "label_0=sorted(list(zip_genre_kmeanpred.filter(lambda row: True if 0==row[1]  else False).countByKey().items()),key=lambda x:x[1],reverse=True)[0][0]\n",
    "label_1=sorted(list(zip_genre_kmeanpred.filter(lambda row: True if 1==row[1]  else False).countByKey().items()),key=lambda x:x[1],reverse=True)[0][0]\n",
    "label_2=sorted(list(zip_genre_kmeanpred.filter(lambda row: True if 2==row[1]  else False).countByKey().items()),key=lambda x:x[1],reverse=True)[0][0]\n",
    "label_3=sorted(list(zip_genre_kmeanpred.filter(lambda row: True if 3==row[1]  else False).countByKey().items()),key=lambda x:x[1],reverse=True)[0][0]\n",
    "label_4=sorted(list(zip_genre_kmeanpred.filter(lambda row: True if 4==row[1]  else False).countByKey().items()),key=lambda x:x[1],reverse=True)[0][0]\n",
    "\n",
    "\n",
    "\n",
    "# print(label_0,\n",
    "# label_1,\n",
    "# label_2,\n",
    "# label_3,\n",
    "# label_4)\n",
    "\n",
    "def addLableMap(row):\n",
    "    labelId=row[1]\n",
    "    if 0==labelId:\n",
    "        label=label_0\n",
    "    elif 1==labelId:\n",
    "        label=label_1\n",
    "    elif 2==labelId:\n",
    "        label=label_2    \n",
    "    elif 3==labelId:\n",
    "        label=label_3    \n",
    "    elif 4==labelId:\n",
    "        label=label_4\n",
    "    \n",
    "    return (row[0],labelId,label)\n",
    "    \n",
    "    \n",
    "zip_genre_kmeanpred_predlabel=zip_genre_kmeanpred.map(addLableMap)\n",
    "\n",
    "Y_true=zip_genre_kmeanpred_predlabel.map(lambda row:(row[0])).collect()\n",
    "Y_pred=zip_genre_kmeanpred_predlabel.map(lambda row:(row[2])).collect()\n",
    "\n",
    "\n",
    "\n",
    "print(classification_report(Y_true, Y_pred))\n",
    "print('True Label: ',\"fiction\", \"government\", \"slate\",\"telephone\",\"travel\")\n",
    "print(confusion_matrix( Y_pred,Y_true,labels=[\"fiction\", \"government\", \"slate\",\"telephone\",\"travel\"],normalize='pred'))"
   ]
  },
  {
   "cell_type": "markdown",
   "metadata": {},
   "source": [
    "## Using TFIDF to encode sentences"
   ]
  },
  {
   "cell_type": "code",
   "execution_count": 12,
   "metadata": {},
   "outputs": [
    {
     "data": {
      "application/vnd.jupyter.widget-view+json": {
       "model_id": "071f9ad139b2460b9a41b52e60c4c7ac",
       "version_major": 2,
       "version_minor": 0
      },
      "text/plain": [
       "VBox()"
      ]
     },
     "metadata": {},
     "output_type": "display_data"
    },
    {
     "data": {
      "application/vnd.jupyter.widget-view+json": {
       "model_id": "",
       "version_major": 2,
       "version_minor": 0
      },
      "text/plain": [
       "FloatProgress(value=0.0, bar_style='info', description='Progress:', layout=Layout(height='25px', width='50%'),…"
      ]
     },
     "metadata": {},
     "output_type": "display_data"
    }
   ],
   "source": [
    "from pyspark.mllib.feature import HashingTF, IDF\n",
    "# Load documents (one per line).\n",
    "# documents = sc.textFile(\"data/mllib/kmeans_data.txt\").map(lambda line: line.split(\" \"))\n",
    "documents=flat_train_rdd.map(lambda row:row[1])\n",
    "hashingTF = HashingTF(10000)\n",
    "tf = hashingTF.transform(documents)\n",
    "\n",
    "# While applying HashingTF only needs a single pass to the data, applying IDF needs two passes:\n",
    "# First to compute the IDF vector and second to scale the term frequencies by IDF.\n",
    "tf.cache()\n",
    "idf = IDF().fit(tf)\n",
    "tfidf = idf.transform(tf)\n",
    "\n",
    "# spark.mllib's IDF implementation provides an option for ignoring terms\n",
    "# which occur in less than a minimum number of documents.\n",
    "# In such cases, the IDF for these terms is set to 0.\n",
    "# This feature can be used by passing the minDocFreq value to the IDF constructor.\n",
    "idfIgnore = IDF(minDocFreq=2).fit(tf)\n",
    "tfidfIgnore = idfIgnore.transform(tf)"
   ]
  },
  {
   "cell_type": "markdown",
   "metadata": {},
   "source": [
    "## Using mllib Kmeans to clustering the sentences"
   ]
  },
  {
   "cell_type": "code",
   "execution_count": 13,
   "metadata": {},
   "outputs": [
    {
     "data": {
      "application/vnd.jupyter.widget-view+json": {
       "model_id": "9556682f0fc84e39b981a63fc817fcd2",
       "version_major": 2,
       "version_minor": 0
      },
      "text/plain": [
       "VBox()"
      ]
     },
     "metadata": {},
     "output_type": "display_data"
    },
    {
     "data": {
      "application/vnd.jupyter.widget-view+json": {
       "model_id": "",
       "version_major": 2,
       "version_minor": 0
      },
      "text/plain": [
       "FloatProgress(value=0.0, bar_style='info', description='Progress:', layout=Layout(height='25px', width='50%'),…"
      ]
     },
     "metadata": {},
     "output_type": "display_data"
    }
   ],
   "source": [
    "from pyspark.mllib.clustering import KMeans, KMeansModel\n",
    "\n",
    "clusters = KMeans.train(tfidfIgnore, 5, maxIterations=1000, initializationMode=\"k-means||\")\n",
    "preditions=clusters.predict(tfidfIgnore)"
   ]
  },
  {
   "cell_type": "markdown",
   "metadata": {},
   "source": [
    "## Show confusion_matrix and classification_report"
   ]
  },
  {
   "cell_type": "code",
   "execution_count": 14,
   "metadata": {},
   "outputs": [
    {
     "data": {
      "application/vnd.jupyter.widget-view+json": {
       "model_id": "41760c63adcd42b0b1cc453d192edd31",
       "version_major": 2,
       "version_minor": 0
      },
      "text/plain": [
       "VBox()"
      ]
     },
     "metadata": {},
     "output_type": "display_data"
    },
    {
     "data": {
      "application/vnd.jupyter.widget-view+json": {
       "model_id": "",
       "version_major": 2,
       "version_minor": 0
      },
      "text/plain": [
       "FloatProgress(value=0.0, bar_style='info', description='Progress:', layout=Layout(height='25px', width='50%'),…"
      ]
     },
     "metadata": {},
     "output_type": "display_data"
    },
    {
     "name": "stdout",
     "output_type": "stream",
     "text": [
      "              precision    recall  f1-score   support\n",
      "\n",
      "     fiction       0.00      0.00      0.00     77348\n",
      "  government       0.26      0.03      0.05     77350\n",
      "       slate       0.24      0.07      0.11     77306\n",
      "   telephone       0.23      0.79      0.35     83348\n",
      "      travel       0.23      0.21      0.22     77350\n",
      "\n",
      "    accuracy                           0.23    392702\n",
      "   macro avg       0.19      0.22      0.15    392702\n",
      "weighted avg       0.19      0.23      0.15    392702\n",
      "\n",
      "True Label:  fiction government slate telephone travel\n",
      "[[0.         0.         0.         0.         0.        ]\n",
      " [0.01683301 0.02692954 0.02043826 0.01700101 0.02253394]\n",
      " [0.05264519 0.06095669 0.07466432 0.0522748  0.06599871]\n",
      " [0.78334281 0.70682612 0.72515717 0.78595767 0.70133161]\n",
      " [0.14717898 0.20528765 0.17974025 0.14476652 0.21013575]]\n",
      "/usr/local/lib64/python3.6/site-packages/sklearn/metrics/_classification.py:1272: UndefinedMetricWarning: Precision and F-score are ill-defined and being set to 0.0 in labels with no predicted samples. Use `zero_division` parameter to control this behavior.\n",
      "  _warn_prf(average, modifier, msg_start, len(result))"
     ]
    }
   ],
   "source": [
    "#local_kmeans_data= predictions.select('prediction').rdd.map(lambda row:(row[0]))\n",
    "local_kmeans_data=preditions\n",
    "#[genre, senetence, word2vec, pca, prediction, majority_abel]\n",
    "\n",
    "local_kmeans_data_index=local_kmeans_data.zipWithIndex().map(lambda row:(row[1],row[0]))\n",
    "\n",
    "train_genre_index=flat_train_rdd.map(lambda row : (row[0])).zipWithIndex().map(lambda row:(row[1],row[0]))\n",
    "\n",
    "zip_genre_kmeanpred=train_genre_index.join(local_kmeans_data_index).values()\n",
    "\n",
    "### zip_genre_kmeanpred: [ genre, prediction]\n",
    "\n",
    "zip_genre_kmeanpred.count()\n",
    "\n",
    "label_0=sorted(list(zip_genre_kmeanpred.filter(lambda row: True if 0==row[1]  else False).countByKey().items()),key=lambda x:x[1],reverse=True)[0][0]\n",
    "label_1=sorted(list(zip_genre_kmeanpred.filter(lambda row: True if 1==row[1]  else False).countByKey().items()),key=lambda x:x[1],reverse=True)[0][0]\n",
    "label_2=sorted(list(zip_genre_kmeanpred.filter(lambda row: True if 2==row[1]  else False).countByKey().items()),key=lambda x:x[1],reverse=True)[0][0]\n",
    "label_3=sorted(list(zip_genre_kmeanpred.filter(lambda row: True if 3==row[1]  else False).countByKey().items()),key=lambda x:x[1],reverse=True)[0][0]\n",
    "label_4=sorted(list(zip_genre_kmeanpred.filter(lambda row: True if 4==row[1]  else False).countByKey().items()),key=lambda x:x[1],reverse=True)[0][0]\n",
    "\n",
    "\n",
    "\n",
    "def addLableMap(row):\n",
    "    labelId=row[1]\n",
    "    if 0==labelId:\n",
    "        label=label_0\n",
    "    elif 1==labelId:\n",
    "        label=label_1\n",
    "    elif 2==labelId:\n",
    "        label=label_2    \n",
    "    elif 3==labelId:\n",
    "        label=label_3    \n",
    "    elif 4==labelId:\n",
    "        label=label_4\n",
    "    \n",
    "    return (row[0],labelId,label)\n",
    "    \n",
    "    \n",
    "zip_genre_kmeanpred_predlabel=zip_genre_kmeanpred.map(addLableMap)\n",
    "\n",
    "Y_true=zip_genre_kmeanpred_predlabel.map(lambda row:(row[0])).collect()\n",
    "Y_pred=zip_genre_kmeanpred_predlabel.map(lambda row:(row[2])).collect()\n",
    "\n",
    "\n",
    "\n",
    "print(classification_report(Y_true, Y_pred))\n",
    "\n",
    "\n",
    "# print(label_0,\n",
    "# label_1,\n",
    "# label_2,\n",
    "# label_3,\n",
    "# label_4)\n",
    "\n",
    "print('True Label: ',\"fiction\", \"government\", \"slate\",\"telephone\",\"travel\")\n",
    "print(confusion_matrix(Y_pred,Y_true,labels=[\"fiction\", \"government\", \"slate\",\"telephone\",\"travel\"],normalize='pred'))"
   ]
  }
 ],
 "metadata": {
  "kernelspec": {
   "display_name": "PySpark",
   "language": "",
   "name": "pysparkkernel"
  },
  "language_info": {
   "codemirror_mode": {
    "name": "python",
    "version": 2
   },
   "mimetype": "text/x-python",
   "name": "pyspark",
   "pygments_lexer": "python2"
  }
 },
 "nbformat": 4,
 "nbformat_minor": 4
}
